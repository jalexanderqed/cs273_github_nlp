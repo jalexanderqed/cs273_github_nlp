{
 "cells": [
  {
   "cell_type": "code",
   "execution_count": 1,
   "metadata": {
    "collapsed": true
   },
   "outputs": [],
   "source": [
    "from github import Github #https://github.com/PyGithub/PyGithub\n",
    "import getpass\n",
    "import json #to get contents in json format"
   ]
  },
  {
   "cell_type": "code",
   "execution_count": 2,
   "metadata": {
    "collapsed": false
   },
   "outputs": [
    {
     "name": "stdout",
     "output_type": "stream",
     "text": [
      "Enter your github token id: ········\n"
     ]
    }
   ],
   "source": [
    "github_token = getpass.getpass(\"Enter your github token id: \");\n",
    "g = Github(github_token)\n",
    "u = g.get_user()\n",
    "org = g.get_organization('facebook')\n",
    "repository = org.get_repo('rocksdb')\n",
    "i = repository.get_issues(state=\"open\")\n",
    "json_content = []\n",
    "for issue in i:\n",
    "    json_content.append({\"number\":issue.number,\"title\":issue.title,\"body\":issue.body})\n",
    "with open('issues.json', 'w') as f:\n",
    "     json.dump(json_content,f) "
   ]
  }
 ],
 "metadata": {
  "kernelspec": {
   "display_name": "Python [conda root]",
   "language": "python",
   "name": "conda-root-py"
  },
  "language_info": {
   "codemirror_mode": {
    "name": "ipython",
    "version": 2
   },
   "file_extension": ".py",
   "mimetype": "text/x-python",
   "name": "python",
   "nbconvert_exporter": "python",
   "pygments_lexer": "ipython2",
   "version": "2.7.12"
  }
 },
 "nbformat": 4,
 "nbformat_minor": 1
}
