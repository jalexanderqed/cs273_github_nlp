{
 "cells": [
  {
   "cell_type": "code",
   "execution_count": null,
   "metadata": {
    "collapsed": false
   },
   "outputs": [],
   "source": [
    "from github import Github #https://github.com/PyGithub/PyGithub\n",
    "import getpass\n",
    "import json #to get contents in json format\n",
    "from nltk.tokenize import word_tokenize\n",
    "from nltk.corpus import stopwords\n",
    "import nltk \n",
    "import string\n",
    "import numpy as np  \n",
    "import matplotlib.pyplot as plt  \n",
    "from sklearn.feature_extraction.text import CountVectorizer\n",
    " "
   ]
  },
  {
   "cell_type": "code",
   "execution_count": null,
   "metadata": {
    "collapsed": false
   },
   "outputs": [],
   "source": [
    "github_token = getpass.getpass(\"Enter your github token id: \");\n",
    "u = g.get_user()\n",
    "org = g.get_organization('facebook')\n",
    "repository = org.get_repo('rocksdb')\n",
    "i = repository.get_issues(state=\"open\")\n",
    "json_content = []\n",
    "titles = []\n",
    "\n",
    "for issue in i:\n",
    "    titles.append({\"title\"})\n",
    "    json_content.append({\"number\":issue.number,\"title\":issue.title,\"body\":issue.body})\n",
    "with open('issues.json', 'w') as f:\n",
    "     json.dump(json_content,f) "
   ]
  },
  {
   "cell_type": "code",
   "execution_count": null,
   "metadata": {
    "collapsed": false
   },
   "outputs": [],
   "source": [
    "import pandas as pd\n",
    "data = pd.DataFrame(json_content)\n",
    "#print data\n",
    "allTitles = data[\"title\"].values\n",
    "print allTitles"
   ]
  },
  {
   "cell_type": "code",
   "execution_count": null,
   "metadata": {
    "collapsed": false
   },
   "outputs": [],
   "source": [
    "from sklearn.feature_extraction.text import TfidfVectorizer\n",
    "tfidf_vectorizer = TfidfVectorizer()\n",
    "tfidf_matrix = tfidf_vectorizer.fit_transform(allTitles)\n",
    "print tfidf_matrix.shape #number of rows and columns\n",
    "print tfidf_matrix.shape[0] #number of rows"
   ]
  },
  {
   "cell_type": "code",
   "execution_count": null,
   "metadata": {
    "collapsed": false
   },
   "outputs": [],
   "source": [
    "from sklearn.metrics.pairwise import cosine_similarity\n",
    "cosine_similarity(tfidf_matrix[0:1], tfidf_matrix)"
   ]
  },
  {
   "cell_type": "code",
   "execution_count": null,
   "metadata": {
    "collapsed": true
   },
   "outputs": [],
   "source": []
  }
 ],
 "metadata": {
  "kernelspec": {
   "display_name": "Python [conda root]",
   "language": "python",
   "name": "conda-root-py"
  },
  "language_info": {
   "codemirror_mode": {
    "name": "ipython",
    "version": 2
   },
   "file_extension": ".py",
   "mimetype": "text/x-python",
   "name": "python",
   "nbconvert_exporter": "python",
   "pygments_lexer": "ipython2",
   "version": "2.7.12"
  }
 },
 "nbformat": 4,
 "nbformat_minor": 1
}
