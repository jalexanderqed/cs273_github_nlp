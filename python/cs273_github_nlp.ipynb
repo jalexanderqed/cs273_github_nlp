{
 "cells": [
  {
   "cell_type": "code",
   "execution_count": null,
   "metadata": {
    "collapsed": false
   },
   "outputs": [],
   "source": [
    "from github import Github #https://github.com/PyGithub/PyGithub\n",
    "import getpass\n",
    "import json #to get contents in json format\n",
    "from nltk.tokenize import word_tokenize\n",
    "from nltk.corpus import stopwords\n",
    "import nltk \n",
    "import string\n",
    "import numpy as np  \n",
    "import matplotlib.pyplot as plt  \n",
    "from sklearn.feature_extraction.text import CountVectorizer\n",
    " "
   ]
  },
  {
   "cell_type": "code",
   "execution_count": null,
   "metadata": {
    "collapsed": false
   },
   "outputs": [],
   "source": [
    "#Getting data from github\n",
    "github_token = getpass.getpass(\"Enter your github token id: \");\n",
    "g=Github(github_token)\n",
    "u = g.get_user()\n",
    "org = g.get_organization('facebook')\n",
    "repository = org.get_repo('rocksdb')\n",
    "i = repository.get_issues(state=\"open\")\n",
    "json_content = []\n",
    "\n",
    "#data to json\n",
    "for issue in i:\n",
    "    json_content.append({\"number\":issue.number,\"title\":issue.title,\"body\":issue.body})\n",
    "with open('issues.json', 'w') as f:\n",
    "     json.dump(json_content,f) "
   ]
  },
  {
   "cell_type": "code",
   "execution_count": null,
   "metadata": {
    "collapsed": false
   },
   "outputs": [],
   "source": [
    "#issue titles as dataframe\n",
    "import pandas as pd\n",
    "data = pd.DataFrame(json_content)\n",
    "allTitles = data[\"title\"].values\n",
    "print allTitles"
   ]
  },
  {
   "cell_type": "code",
   "execution_count": null,
   "metadata": {
    "collapsed": false
   },
   "outputs": [],
   "source": [
    "#vectors\n",
    "from sklearn.feature_extraction.text import TfidfVectorizer\n",
    "tfidf_vectorizer = TfidfVectorizer()\n",
    "tfidf_matrix = tfidf_vectorizer.fit_transform(allTitles)\n",
    "print tfidf_matrix.shape #number of rows and columns\n",
    "print tfidf_matrix.shape[0] #number of rows"
   ]
  },
  {
   "cell_type": "code",
   "execution_count": null,
   "metadata": {
    "collapsed": false
   },
   "outputs": [],
   "source": [
    "#cosine similarity\n",
    "from sklearn.metrics.pairwise import cosine_similarity\n",
    "cos_mat = cosine_similarity(tfidf_matrix, tfidf_matrix)\n",
    "print cos_mat.shape"
   ]
  },
  {
   "cell_type": "code",
   "execution_count": null,
   "metadata": {
    "collapsed": false
   },
   "outputs": [],
   "source": [
    "#top 5 similar issues for each type of issue\n",
    "import heapq\n",
    "def f1(a,N):\n",
    "    return np.argsort(a)[::-1][:N]\n",
    "\n",
    "for x in cos_mat:\n",
    "    y = f1(x,5)\n",
    "    print y\n",
    "    print allTitles[y]\n",
    " \n"
   ]
  },
  {
   "cell_type": "code",
   "execution_count": null,
   "metadata": {
    "collapsed": true
   },
   "outputs": [],
   "source": []
  }
 ],
 "metadata": {
  "kernelspec": {
   "display_name": "Python [conda root]",
   "language": "python",
   "name": "conda-root-py"
  },
  "language_info": {
   "codemirror_mode": {
    "name": "ipython",
    "version": 2
   },
   "file_extension": ".py",
   "mimetype": "text/x-python",
   "name": "python",
   "nbconvert_exporter": "python",
   "pygments_lexer": "ipython2",
   "version": "2.7.12"
  }
 },
 "nbformat": 4,
 "nbformat_minor": 1
}
